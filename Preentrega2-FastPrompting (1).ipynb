{
 "cells": [
  {
   "cell_type": "markdown",
   "metadata": {},
   "source": [
    "# Fast Prompting - Preentrega 2\n",
    "\n",
    "## 1. Introducción\n",
    "En la **Preentrega 1** presentamos la problemática de transformar información dispersa en materiales claros, útiles y atractivos. Allí destacamos cómo el **Prompt Engineering** podía ayudar a estructurar datos en textos más comprensibles y a generar representaciones visuales coherentes, respondiendo a una necesidad concreta en contextos académicos y laborales.\n",
    "\n",
    "En esta **Preentrega 2**, avanzamos hacia la implementación práctica de esa propuesta, explorando cómo la técnica de **Fast Prompting** permite optimizar la calidad y utilidad de los resultados generados por modelos de IA. Mientras que la primera entrega planteaba la visión general y justificaba la relevancia del proyecto, aquí nos enfocamos en demostrar la viabilidad mediante ejemplos concretos de prompts y sus resultados.\n"
   ]
  },
  {
   "cell_type": "markdown",
   "metadata": {},
   "source": [
    "## 2. Problema\n",
    "La cantidad de información disponible en la actualidad crece de forma exponencial, lo que genera un desafío: **cómo sintetizar, organizar y comunicar de manera efectiva esa información**. Muchas veces, los textos generados por modelos de IA a partir de prompts básicos resultan demasiado largos, vagos o poco enfocados, lo que dificulta su aplicación práctica.\n",
    "\n",
    "En la Preentrega 1 identificamos que esta dificultad impacta en:\n",
    "- La productividad académica (estudiantes que necesitan resúmenes claros de sus apuntes).\n",
    "- El trabajo profesional (equipos que requieren planes de acción o reportes concretos).\n",
    "- La comunicación en general (explicar conceptos de forma precisa a diferentes públicos).\n",
    "\n",
    "Este problema sigue siendo relevante porque **limita la capacidad de aprovechar la IA como una herramienta real de apoyo** si los resultados no cumplen con los requisitos de claridad, concisión y relevancia.\n"
   ]
  },
  {
   "cell_type": "markdown",
   "metadata": {},
   "source": [
    "## 3. Propuesta\n",
    "La propuesta de esta segunda entrega es aplicar **Fast Prompting** como estrategia de optimización. Esto implica diseñar prompts más específicos, con instrucciones claras sobre:\n",
    "- La extensión del texto esperado.\n",
    "- Los puntos clave que debe incluir.\n",
    "- El estilo de comunicación requerido.\n",
    "\n",
    "Por ejemplo, en lugar de pedir simplemente *“Escribe un resumen sobre la historia de la inteligencia artificial”*, se formula un prompt más guiado: *“Escribe un resumen de 3 frases sobre la historia de la inteligencia artificial, incluyendo hitos clave y nombres de pioneros, de manera clara y concisa”*.\n",
    "\n",
    "De esta manera, el usuario obtiene un resultado más enfocado, lo que reduce el esfuerzo de edición posterior y asegura que el contenido cumpla con los objetivos planteados.\n"
   ]
  },
  {
   "cell_type": "markdown",
   "metadata": {},
   "source": [
    "## 4. Objetivos\n",
    "1. **Comparar** los resultados obtenidos entre prompts básicos (naive) y prompts optimizados (Fast Prompting).\n",
    "2. **Demostrar** cómo el refinamiento de prompts impacta directamente en la calidad del texto generado.\n",
    "3. **Justificar la viabilidad técnica** del enfoque como continuidad de la propuesta presentada en la Preentrega 1.\n",
    "4. **Ofrecer ejemplos reproducibles** que puedan ser utilizados en diferentes contextos (educativo, laboral, comunicacional).\n"
   ]
  },
  {
   "cell_type": "markdown",
   "metadata": {},
   "source": [
    "## 5. Metodología\n",
    "Para comprobar la efectividad de Fast Prompting se seguirá el siguiente procedimiento:\n",
    "\n",
    "1. Seleccionar un tema de prueba: *Historia de la Inteligencia Artificial*.\n",
    "2. Diseñar un **prompt básico (naive)** y registrar el resultado obtenido.\n",
    "3. Diseñar un **prompt optimizado (Fast Prompting)** y registrar el resultado.\n",
    "4. Comparar los resultados en función de:\n",
    "   - Claridad\n",
    "   - Concisión\n",
    "   - Relevancia de la información\n",
    "   - Aplicabilidad práctica\n",
    "5. Reflexionar sobre los hallazgos y conectar los resultados con la propuesta de la Preentrega 1.\n"
   ]
  },
  {
   "cell_type": "markdown",
   "metadata": {},
   "source": [
    "## 6. Implementación\n",
    "\n",
    "### Prompt Básico\n"
   ]
  },
  {
   "cell_type": "code",
   "metadata": {},
   "execution_count": null,
   "outputs": [],
   "source": [
    "prompt_basico = \"Escribe un resumen sobre la historia de la inteligencia artificial.\"\n",
    "\n",
    "# Aquí deberías ejecutar el prompt con la herramienta que uses (ej: OpenAI API)\n",
    "# resultado_basico = ejecutar_prompt(prompt_basico)\n",
    "\n",
    "print(\"Resultado Prompt Básico:\")\n",
    "print(\"[Pega aquí la respuesta obtenida]\")"
   ]
  },
  {
   "cell_type": "markdown",
   "metadata": {},
   "source": [
    "### Prompt Optimizado (Fast Prompting)\n"
   ]
  },
  {
   "cell_type": "code",
   "metadata": {},
   "execution_count": null,
   "outputs": [],
   "source": [
    "prompt_mejorado = \"Escribe un resumen de 3 frases sobre la historia de la inteligencia artificial, incluyendo hitos clave y nombres de pioneros, de manera clara y concisa.\"\n",
    "\n",
    "# resultado_mejorado = ejecutar_prompt(prompt_mejorado)\n",
    "\n",
    "print(\"Resultado Prompt Optimizado:\")\n",
    "print(\"[Pega aquí la respuesta obtenida]\")"
   ]
  },
  {
   "cell_type": "markdown",
   "metadata": {},
   "source": [
    "## 8. Justificación de la Viabilidad Técnica\n",
    "El proyecto es **técnicamente viable** por varias razones:\n",
    "- Utiliza herramientas de IA accesibles como la API de OpenAI (para texto) y servicios gratuitos o de bajo costo para generación de imágenes (ej. NightCafe).\n",
    "- No requiere infraestructura compleja ni recursos económicos elevados, lo que lo hace posible de implementar en el marco del curso.\n",
    "- El tiempo de desarrollo es razonable, dado que los prompts pueden ajustarse rápidamente con iteraciones cortas.\n",
    "- El diseño modular (texto → texto, texto → imagen) permite dividir el problema en subtareas simples.\n",
    "- Se pueden optimizar las consultas a la API para minimizar costos: primero diseñando los prompts en pruebas locales y luego ejecutando solo las consultas necesarias.\n"
   ]
  },
  {
   "cell_type": "markdown",
   "metadata": {},
   "source": [
    "## 9. Herramientas y Tecnologías\n",
    "Las principales técnicas y herramientas utilizadas en este proyecto son:\n",
    "- **Prompt Engineering**: metodología base para diseñar interacciones efectivas con modelos de IA.\n",
    "- **Fast Prompting**: técnica que mejora la claridad y relevancia de los resultados, optimizando la formulación de los prompts.\n",
    "- **OpenAI API (ChatGPT)**: usada para la generación de texto. Permite reproducir los ejemplos de manera confiable.\n",
    "- **Generadores de imágenes**: se propone DALL·E (si está disponible) o alternativas gratuitas como NightCafe, para la parte visual de la propuesta.\n",
    "\n",
    "### Justificación de las elecciones:\n",
    "- Son herramientas ampliamente utilizadas, con documentación disponible.\n",
    "- Permiten un equilibrio entre calidad de resultados y bajo costo de implementación.\n",
    "- Garantizan que el proyecto sea reproducible y aplicable tanto en el ámbito académico como en el profesional.\n"
   ]
  },
  {
   "cell_type": "markdown",
   "metadata": {},
   "source": [
    "## 7. Conclusiones\n",
    "- El **prompt básico** genera un texto amplio pero poco enfocado, que puede ser útil como primera aproximación, aunque requiere trabajo adicional para adaptarlo a un uso específico.\n",
    "- El **prompt optimizado** produce un resultado más conciso, con datos relevantes y mejor alineado a los objetivos comunicativos planteados.\n",
    "- **Fast Prompting** demuestra ser una técnica viable para aumentar la calidad del contenido generado por IA, y se conecta directamente con la propuesta de la Preentrega 1: ofrecer a los usuarios herramientas que les permitan transformar información en recursos claros, útiles y atractivos.\n",
    "- En conjunto, ambas entregas muestran un avance progresivo: de la identificación del problema y propuesta general (Preentrega 1), hacia la implementación práctica y comprobación de resultados (Preentrega 2).\n"
   ]
  }
 ],
 "metadata": {
  "kernelspec": {
   "display_name": "Python 3",
   "language": "python",
   "name": "python3"
  },
  "language_info": {
   "name": "python",
   "version": "3.10"
  }
 },
 "nbformat": 4,
 "nbformat_minor": 2
}